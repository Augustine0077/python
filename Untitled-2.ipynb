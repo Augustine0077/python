{
 "cells": [
  {
   "cell_type": "code",
   "execution_count": 1,
   "id": "a2679e87",
   "metadata": {},
   "outputs": [
    {
     "name": "stdout",
     "output_type": "stream",
     "text": [
      "New line added to the file.\n"
     ]
    }
   ],
   "source": [
    "with open('exa.txt', mode='a') as new_file:\n",
    "    new_file.write('\\nThis is a new line added to the file.')\n",
    "    print('New line added to the file.')"
   ]
  }
 ],
 "metadata": {
  "kernelspec": {
   "display_name": "Python 3",
   "language": "python",
   "name": "python3"
  },
  "language_info": {
   "codemirror_mode": {
    "name": "ipython",
    "version": 3
   },
   "file_extension": ".py",
   "mimetype": "text/x-python",
   "name": "python",
   "nbconvert_exporter": "python",
   "pygments_lexer": "ipython3",
   "version": "3.13.1"
  }
 },
 "nbformat": 4,
 "nbformat_minor": 5
}
