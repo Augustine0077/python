{
 "cells": [
  {
   "cell_type": "code",
   "execution_count": null,
   "id": "83d8bec2",
   "metadata": {},
   "outputs": [],
   "source": []
  },
  {
   "cell_type": "code",
   "execution_count": 3,
   "id": "3f39831f",
   "metadata": {},
   "outputs": [],
   "source": [
    "all_gust={'ankit':{'samoosa':5,'jilebi':10},\n",
    "          'vishal':\n",
    "           {'chakli':8,'ladoos':12},\n",
    "          'rahul':\n",
    "           {'barfi':7,'peda':9}}"
   ]
  },
  {
   "cell_type": "code",
   "execution_count": 8,
   "id": "d5664bc1",
   "metadata": {},
   "outputs": [],
   "source": [
    "def total_brought(gust,items):\n",
    "    num_brought = 0\n",
    "    for k,v in all_gust.items():\n",
    "        num_brought = num_brought + v.get(items,0)\n",
    "\n",
    "        return num_brought"
   ]
  },
  {
   "cell_type": "code",
   "execution_count": 7,
   "id": "9e880b7c",
   "metadata": {},
   "outputs": [
    {
     "name": "stdout",
     "output_type": "stream",
     "text": [
      "ankit {'samoosa': 5, 'jilebi': 10}\n",
      "vishal {'chakli': 8, 'ladoos': 12}\n",
      "rahul {'barfi': 7, 'peda': 9}\n"
     ]
    }
   ],
   "source": [
    "total_brought(all_gust,'samoosa')"
   ]
  },
  {
   "cell_type": "code",
   "execution_count": 6,
   "id": "6bd0bf1e",
   "metadata": {},
   "outputs": [
    {
     "name": "stdout",
     "output_type": "stream",
     "text": [
      "ankit {'samoosa': 5, 'jilebi': 10}\n",
      "vishal {'chakli': 8, 'ladoos': 12}\n",
      "rahul {'barfi': 7, 'peda': 9}\n"
     ]
    }
   ],
   "source": [
    "for k,v in all_gust.items():\n",
    "        print(k,v)"
   ]
  }
 ],
 "metadata": {
  "kernelspec": {
   "display_name": "Python 3",
   "language": "python",
   "name": "python3"
  },
  "language_info": {
   "codemirror_mode": {
    "name": "ipython",
    "version": 3
   },
   "file_extension": ".py",
   "mimetype": "text/x-python",
   "name": "python",
   "nbconvert_exporter": "python",
   "pygments_lexer": "ipython3",
   "version": "3.13.7"
  }
 },
 "nbformat": 4,
 "nbformat_minor": 5
}
