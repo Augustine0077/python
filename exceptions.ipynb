{
 "cells": [
  {
   "cell_type": "code",
   "execution_count": 1,
   "id": "a2679e87",
   "metadata": {},
   "outputs": [
    {
     "name": "stdout",
     "output_type": "stream",
     "text": [
      "New line added to the file.\n"
     ]
    }
   ],
   "source": [
    "with open('exa.txt', mode='a') as new_file:\n",
    "    new_file.write('\\nThis is a new line added to the file.')\n",
    "    print('New line added to the file.')"
   ]
  },
  {
   "cell_type": "code",
   "execution_count": 4,
   "id": "15e1d685",
   "metadata": {},
   "outputs": [
    {
     "name": "stdout",
     "output_type": "stream",
     "text": [
      "name 'b' is not defined\n"
     ]
    }
   ],
   "source": [
    "try:\n",
    "    a=b\n",
    "except NameError as e:\n",
    "    print(e)\n"
   ]
  },
  {
   "cell_type": "code",
   "execution_count": 6,
   "id": "a6dcb435",
   "metadata": {},
   "outputs": [
    {
     "name": "stdout",
     "output_type": "stream",
     "text": [
      "division by zero\n"
     ]
    }
   ],
   "source": [
    "try:\n",
    "   result =  1/0\n",
    "   a/b\n",
    "except Exception as e:\n",
    "   print(e)"
   ]
  },
  {
   "cell_type": "code",
   "execution_count": 16,
   "id": "28d44374",
   "metadata": {},
   "outputs": [
    {
     "name": "stdout",
     "output_type": "stream",
     "text": [
      "the value is 2.0\n"
     ]
    }
   ],
   "source": [
    "try :\n",
    "    num = int(input(\"enter a number\"))\n",
    "    result = 10 / num\n",
    "except ValueError as v:\n",
    "    print(\"enter a correct number \")\n",
    "except ZeroDivisionError as z:\n",
    "    print(\"enter a number grater than 0\")\n",
    "else:\n",
    "    print(f\"the value is {result}\")"
   ]
  },
  {
   "cell_type": "code",
   "execution_count": 21,
   "id": "b0440e91",
   "metadata": {},
   "outputs": [
    {
     "name": "stdout",
     "output_type": "stream",
     "text": [
      "file not found\n"
     ]
    }
   ],
   "source": [
    "try:\n",
    "    file=open('exmaole.txt','r')\n",
    "    content = file.read()\n",
    "    print(content)\n",
    "except FileNotFoundError :\n",
    "    print(\"file not found\")\n",
    "finally:\n",
    "    if 'file' in locals() and not file.closed():\n",
    "        file.close()\n",
    "        print('file closed')"
   ]
  }
 ],
 "metadata": {
  "kernelspec": {
   "display_name": "Python 3",
   "language": "python",
   "name": "python3"
  },
  "language_info": {
   "codemirror_mode": {
    "name": "ipython",
    "version": 3
   },
   "file_extension": ".py",
   "mimetype": "text/x-python",
   "name": "python",
   "nbconvert_exporter": "python",
   "pygments_lexer": "ipython3",
   "version": "3.13.1"
  }
 },
 "nbformat": 4,
 "nbformat_minor": 5
}
