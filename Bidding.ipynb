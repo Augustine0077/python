{
  "nbformat": 4,
  "nbformat_minor": 0,
  "metadata": {
    "colab": {
      "provenance": []
    },
    "kernelspec": {
      "name": "python3",
      "display_name": "Python 3"
    },
    "language_info": {
      "name": "python"
    }
  },
  "cells": [
    {
      "cell_type": "code",
      "execution_count": null,
      "metadata": {
        "id": "1k1cBM9TNMRW"
      },
      "outputs": [],
      "source": [
        "bids = {}\n",
        "bidding_finished = False\n",
        "\n",
        "def find_highest_bidder(bidding_record):\n",
        "    highest_bid = 0\n",
        "    winner = \"\"\n",
        "    for bidder in bidding_record:\n",
        "        bid_amount = bidding_record[bidder]\n",
        "        if bid_amount > highest_bid:\n",
        "            highest_bid = bid_amount\n",
        "            winner = bidder\n",
        "    print(f\"The winner is {winner} with a bid of ${highest_bid}\")\n",
        "\n",
        "while not bidding_finished:\n",
        "    name = input(\"What is your name?: \")\n",
        "    price = int(input(\"What is your bid?: $\"))\n",
        "    bids[name] = price\n",
        "    should_continue = input(\"Are there any other bidders? Type 'yes' or 'no'.\\n\")\n",
        "    if should_continue == \"no\":\n",
        "        bidding_finished = True\n",
        "        find_highest_bidder(bids)\n",
        "    elif should_continue == \"yes\":\n",
        "        pass  # This line ensures that the loop continues if there are other bidders.\n"
      ]
    }
  ]
}