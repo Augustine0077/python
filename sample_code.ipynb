{
 "cells": [
  {
   "cell_type": "code",
   "execution_count": 8,
   "id": "058a6885",
   "metadata": {},
   "outputs": [],
   "source": [
    "def greeting(value):\n",
    "    return value + \" \" 'kunjan'"
   ]
  },
  {
   "cell_type": "code",
   "execution_count": 9,
   "id": "a4ad8fdd",
   "metadata": {},
   "outputs": [
    {
     "data": {
      "text/plain": [
       "'hello kunjan'"
      ]
     },
     "execution_count": 9,
     "metadata": {},
     "output_type": "execute_result"
    }
   ],
   "source": [
    "greeting(\"hello\")"
   ]
  },
  {
   "cell_type": "markdown",
   "id": "77cc812b",
   "metadata": {},
   "source": [
    "simple while loop\n"
   ]
  },
  {
   "cell_type": "code",
   "execution_count": 10,
   "id": "9f142499",
   "metadata": {},
   "outputs": [
    {
     "name": "stdout",
     "output_type": "stream",
     "text": [
      "Hello f\n"
     ]
    }
   ],
   "source": [
    "name = input(\"Enter your name: \")\n",
    "while name ==\"\":\n",
    "    name = input(\"Please enter your name: \")\n",
    "\n",
    "print(\"Hello \" + name)"
   ]
  },
  {
   "cell_type": "code",
   "execution_count": null,
   "id": "0f75fa2c",
   "metadata": {},
   "outputs": [],
   "source": []
  },
  {
   "cell_type": "markdown",
   "id": "28db7dc6",
   "metadata": {},
   "source": [
    "dictionarys"
   ]
  },
  {
   "cell_type": "code",
   "execution_count": null,
   "id": "55719d19",
   "metadata": {},
   "outputs": [],
   "source": [
    "phone = {\"brand\":\"Apple\", \"model\":\"Iphone 13\", \"color\":\"Black\"}"
   ]
  }
 ],
 "metadata": {
  "kernelspec": {
   "display_name": "Python 3",
   "language": "python",
   "name": "python3"
  },
  "language_info": {
   "codemirror_mode": {
    "name": "ipython",
    "version": 3
   },
   "file_extension": ".py",
   "mimetype": "text/x-python",
   "name": "python",
   "nbconvert_exporter": "python",
   "pygments_lexer": "ipython3",
   "version": "3.13.7"
  }
 },
 "nbformat": 4,
 "nbformat_minor": 5
}
