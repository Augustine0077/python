{
 "cells": [
  {
   "cell_type": "code",
   "execution_count": null,
   "id": "a650b461",
   "metadata": {},
   "outputs": [],
   "source": [
    "import csv \n",
    "with open('sample.csv',mode='w',newline=) as file:\n",
    "    reader= csv.writer(file)\n",
    "    reader.writerow(['name','age'])\n",
    "    reader.writerow(['augustine',23])\n",
    "with open('sample.csv',mode='r') as file:\n",
    "    read=csv.reader(file)\n",
    "    for row in read:\n",
    "        print(row)"
   ]
  }
 ],
 "metadata": {
  "language_info": {
   "name": "python"
  }
 },
 "nbformat": 4,
 "nbformat_minor": 5
}
