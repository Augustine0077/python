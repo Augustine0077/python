def bubble_sort(arr):
    n=len(arr)
    for i in range(n):
        for j in range(0,n-1):
            if arr[j] > arr[j+1]:
                arr[j],arr[j+1]=arr[j+1],arr[j]
    return arr
unorder_list=[12,25,11,34,90,22]
sorted = bubble_sort(unsorted_list)
print("sorted lis",sorted)