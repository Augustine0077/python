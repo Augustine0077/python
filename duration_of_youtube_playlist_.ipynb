# Install required libraries
!pip install pytube yt-dlp

from pytube import Playlist
import yt_dlp

# Define the playlist URL
playlist_url = "https://youtube.com/playlist?list=PLZPZq0r_RZOOj_NOZYq_R2PECIMglLemc&si=S5xYMG0UVDcBXhBg"

def get_duration_pytube(playlist_url):
    """Fetch total duration using PyTube."""
    try:
        # Get the playlist object
        playlist = Playlist(playlist_url)

        # Initialize total duration
        total_duration = 0

        # Iterate through each video in the playlist
        for video in playlist.videos:
            try:
                print(f"Processing video: {video.title}")
                duration = video.length  # Get the video duration in seconds
                if duration is None:
                    print(f"Skipping video: {video.title} (unable to get duration)")
                    continue
                total_duration += duration
            except Exception as e:
                print(f"Error processing video: {video.title}. Error: {e}")

        # Convert total duration to hours, minutes, and seconds
        hours = total_duration // 3600
        minutes = (total_duration % 3600) // 60
        seconds = total_duration % 60
        print(f"Total duration using PyTube: {hours} hours, {minutes} minutes, and {seconds} seconds")
    except Exception as e:
        print(f"PyTube failed with error: {e}")
        return None

def get_duration_ytdlp(playlist_url):
    """Fetch total duration using yt-dlp."""
    try:
        ydl_opts = {
            'quiet': True,
            'extract_flat': True,
        }

        with yt_dlp.YoutubeDL(ydl_opts) as ydl:
            playlist_info = ydl.extract_info(playlist_url, download=False)
            total_duration = 0
            for entry in playlist_info['entries']:
                if 'duration' in entry:
                    total_duration += entry['duration']

        # Convert total duration to hours, minutes, and seconds
        hours = total_duration // 3600
        minutes = (total_duration % 3600) // 60
        seconds = total_duration % 60
        print(f"Total duration using yt-dlp: {hours} hours, {minutes} minutes, and {seconds} seconds")
    except Exception as e:
        print(f"yt-dlp failed with error: {e}")
        return None

# Attempt to fetch duration using PyTube
print("Attempting to fetch duration using PyTube...")
get_duration_pytube(playlist_url)

# Attempt to fetch duration using yt-dlp if PyTube fails
print("\nAttempting to fetch duration using yt-dlp...")
get_duration_ytdlp(playlist_url)
