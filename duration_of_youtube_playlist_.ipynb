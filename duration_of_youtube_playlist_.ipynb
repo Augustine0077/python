{
  "nbformat": 4,
  "nbformat_minor": 0,
  "metadata": {
    "colab": {
      "provenance": []
    },
    "kernelspec": {
      "name": "python3",
      "display_name": "Python 3"
    },
    "language_info": {
      "name": "python"
    }
  },
  "cells": [
    {
      "cell_type": "code",
      "execution_count": 3,
      "metadata": {
        "id": "n6q8Nvpclgqr",
        "colab": {
          "base_uri": "https://localhost:8080/"
        },
        "outputId": "e83ae268-7572-45a1-887a-3859317110b9"
      },
      "outputs": [
        {
          "output_type": "stream",
          "name": "stdout",
          "text": [
            "Total duration: 1 hours, 55 minutes, and 23 seconds\n"
          ]
        }
      ],
      "source": [
        "import pytube\n",
        "\n",
        "playlist_url = \"https://youtube.com/playlist?list=PLW8k134H_sVdXPeqELLIloBX1As7mzbuV&si=TpHgv81Ju8dt3prG\"\n",
        "\n",
        "# Get the playlist object\n",
        "playlist = pytube.Playlist(playlist_url)\n",
        "\n",
        "# Initialize total duration\n",
        "total_duration = 0\n",
        "\n",
        "# Iterate through each video in the playlist\n",
        "for video in playlist.videos:\n",
        "    # Get the video duration in seconds\n",
        "    duration = video.length\n",
        "    # Add the duration to the total\n",
        "    total_duration += duration\n",
        "\n",
        "# Convert total duration to hours, minutes, and seconds\n",
        "hours = total_duration // 3600\n",
        "minutes = (total_duration % 3600) // 60\n",
        "seconds = total_duration % 60\n",
        "\n",
        "print(f\"Total duration: {hours} hours, {minutes} minutes, and {seconds} seconds\")"
      ]
    },
    {
      "cell_type": "code",
      "source": [
        "!pip install pytube\n"
      ],
      "metadata": {
        "colab": {
          "base_uri": "https://localhost:8080/"
        },
        "id": "ee9G0Mud6yCD",
        "outputId": "6226f96e-e306-406c-e77a-e82b3a4e2c4c"
      },
      "execution_count": 2,
      "outputs": [
        {
          "output_type": "stream",
          "name": "stdout",
          "text": [
            "Collecting pytube\n",
            "  Downloading pytube-15.0.0-py3-none-any.whl.metadata (5.0 kB)\n",
            "Downloading pytube-15.0.0-py3-none-any.whl (57 kB)\n",
            "\u001b[?25l   \u001b[90m━━━━━━━━━━━━━━━━━━━━━━━━━━━━━━━━━━━━━━━━\u001b[0m \u001b[32m0.0/57.6 kB\u001b[0m \u001b[31m?\u001b[0m eta \u001b[36m-:--:--\u001b[0m\r\u001b[2K   \u001b[90m━━━━━━━━━━━━━━━━━━━━━━━━━━━━━━━━━━━━━━━━\u001b[0m \u001b[32m57.6/57.6 kB\u001b[0m \u001b[31m3.5 MB/s\u001b[0m eta \u001b[36m0:00:00\u001b[0m\n",
            "\u001b[?25hInstalling collected packages: pytube\n",
            "Successfully installed pytube-15.0.0\n"
          ]
        }
      ]
    },
    {
      "cell_type": "code",
      "source": [],
      "metadata": {
        "id": "pe7Mok636xHR"
      },
      "execution_count": null,
      "outputs": []
    }
  ]
}